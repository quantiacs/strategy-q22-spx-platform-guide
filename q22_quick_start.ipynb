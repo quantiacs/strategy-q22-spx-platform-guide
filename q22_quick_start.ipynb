{
 "cells": [
  {
   "cell_type": "markdown",
   "metadata": {},
   "source": [
    "# Q22 All Platform Features: A Beginner’s Guide\n",
    "\n",
    "This is a Dual Simple Moving Average Crossover strategy using the S&P 500 index data on the Quantiacs platform.\n",
    "It goes long on a stock when its 20-day SMA exceeds the 200-day SMA and shorts when the opposite occurs, only considering liquid stocks. This strategy aims to capitalize on momentum changes in stock prices.\n",
    "\n",
    "## Full code\n",
    "\n",
    "Below is the complete code snippet for this strategy:\n",
    "\n",
    "```python\n",
    "import xarray as xr\n",
    "\n",
    "import qnt.ta as qnta\n",
    "import qnt.data as qndata\n",
    "import qnt.output as qnout\n",
    "import qnt.stats as qnstats\n",
    "\n",
    "# Load daily stock data for the Q22 S&P500 contest\n",
    "data = qndata.stocks.load_spx_data(min_date=\"2005-06-01\")\n",
    "\n",
    "# Strategy\n",
    "close     = data.sel(field=\"close\")\n",
    "sma_slow  = qnta.sma(close, 200)\n",
    "sma_fast  = qnta.sma(close, 20)\n",
    "weights   = xr.where(sma_slow < sma_fast, 1, -1)\n",
    "\n",
    "# Liquidity filter and clean\n",
    "is_liquid = data.sel(field=\"is_liquid\")\n",
    "weights   = weights * is_liquid\n",
    "weights = qnout.clean(weights, data, \"stocks_s&p500\")\n",
    "\n",
    "# Calc stats\n",
    "stats = qnstats.calc_stat(data, weights.sel(time=slice(\"2006-01-01\", None)))\n",
    "display(stats.to_pandas().tail())\n",
    "\n",
    "# Graph\n",
    "performance = stats.to_pandas()[\"equity\"]\n",
    "import qnt.graph as qngraph\n",
    "\n",
    "qngraph.make_plot_filled(performance.index, performance, name=\"PnL (Equity)\", type=\"log\")\n",
    "\n",
    "weights = weights.sel(time=slice(\"2006-01-01\",None))\n",
    "\n",
    "qnout.check(weights, data, \"stocks_s&p500\")\n",
    "qnout.write(weights) # to participate in the competition\n",
    "\n",
    "```"
   ]
  },
  {
   "cell_type": "markdown",
   "metadata": {},
   "source": [
    "## 1) Load libraries\n",
    "\n",
    "Start by importing all the essential libraries."
   ]
  },
  {
   "cell_type": "code",
   "execution_count": null,
   "metadata": {
    "collapsed": false,
    "jupyter": {
     "outputs_hidden": false
    },
    "pycharm": {
     "is_executing": true
    }
   },
   "outputs": [],
   "source": [
    "# Import basic libraries.\n",
    "import xarray as xr\n",
    "import pandas as pd\n",
    "import numpy as np\n",
    "\n",
    "# Import Quantiacs libraries.\n",
    "import qnt.data    as qndata  # load and manipulate data\n",
    "import qnt.output as qnout   # manage output\n",
    "import qnt.backtester as qnbt # backtester\n",
    "import qnt.stats   as qnstats # statistical functions for analysis\n",
    "import qnt.graph   as qngraph # graphical tools\n",
    "import qnt.ta      as qnta    # indicators library\n",
    "import qnt.xr_talib as xr_talib   # indicators library"
   ]
  },
  {
   "cell_type": "markdown",
   "metadata": {},
   "source": [
    "## 2) Data\n",
    "\n",
    "The variable **qndata.stocks.load_spx_data(tail=period)** is an xarray.DataArray structure which contains historical market data for the last (tail=period) days and whose coordinates are:\n",
    "\n",
    "* **time**: a date in format yyyy-mm-dd;\n",
    "* **field**: an attribute, for example the opening daily price;\n",
    "* **asset**: the identifying symbol for the asset, for example NAS:APPL for Apple.\n",
    "\n",
    "![data_example](./img/data.jpg)\n",
    "\n",
    "Load daily stock data for the Q22 S&P500 contest\n"
   ]
  },
  {
   "cell_type": "code",
   "execution_count": null,
   "metadata": {
    "collapsed": false,
    "jupyter": {
     "outputs_hidden": false
    },
    "pycharm": {
     "is_executing": true
    }
   },
   "outputs": [],
   "source": [
    "data = qndata.stocks.load_spx_data(min_date=\"2005-06-01\")"
   ]
  },
  {
   "cell_type": "markdown",
   "metadata": {},
   "source": [
    "## 3) Strategy. Weights allocation\n",
    "\n",
    "\n",
    "> Every day, the algorithm determines how much of each asset should be in the portfolio for the next trading day. These are called the portfolio weights.\n",
    "\n",
    "A positive weight means you'll be buying that asset, while a negative weight means you'll be selling it.\n",
    "\n",
    "These decisions are made at the end of each day and put into effect at the beginning of the next trading day.\n",
    "\n",
    "![weights_example](./img/weights.jpg)"
   ]
  },
  {
   "cell_type": "code",
   "execution_count": null,
   "metadata": {
    "collapsed": false,
    "jupyter": {
     "outputs_hidden": false
    },
    "pycharm": {
     "is_executing": true
    }
   },
   "outputs": [],
   "source": [
    "# Strategy\n",
    "close     = data.sel(field=\"close\")\n",
    "sma_slow  = qnta.sma(close, 200)\n",
    "sma_fast  = qnta.sma(close, 20)\n",
    "weights   = xr.where(sma_slow < sma_fast, 1, -1)\n",
    "\n",
    "# Liquidity filter and clean\n",
    "is_liquid = data.sel(field=\"is_liquid\")\n",
    "weights   = weights * is_liquid\n",
    "weights = qnout.clean(weights, data, \"stocks_s&p500\")"
   ]
  },
  {
   "cell_type": "markdown",
   "metadata": {},
   "source": [
    "## 4) Performance estimation\n",
    "\n",
    "Once we have our trading algorithm, we can assess its performance by calculating various statistics."
   ]
  },
  {
   "cell_type": "code",
   "execution_count": null,
   "metadata": {
    "collapsed": false,
    "jupyter": {
     "outputs_hidden": false
    }
   },
   "outputs": [],
   "source": [
    "stats = qnstats.calc_stat(data, weights.sel(time=slice(\"2006-01-01\", None)))\n",
    "display(stats.to_pandas().tail())"
   ]
  },
  {
   "cell_type": "markdown",
   "metadata": {},
   "source": [
    "These stats show how well the algorithm is doing if you started with 1M USD. They include:\n",
    "\n",
    "* **equity**: the cumulative value of profits and losses since inception (1M USD);\n",
    "* **relative_return**: the relative daily variation of **equity**;\n",
    "* **volatility**: the volatility of the investment since inception (i.e. the annualized standard deviation of the daily returns);\n",
    "* **underwater**: the time evolution of drawdowns;\n",
    "* **max_drawdown**: the absolute minimum of the underwater chart;\n",
    "* **sharpe_ratio**: the annualized Sharpe ratio since inception; the value must be larger than 1 for taking part to contests;\n",
    "* **mean_return**: the annualized mean return of the investment since inception;\n",
    "* **bias**: the daily asymmetry between long and short exposure: 1 for a long-only system, -1 for a short-only one;\n",
    "* **instruments**: the number of instruments which get allocations on a given day;\n",
    "* **avg_turnover**: the average turnover;\n",
    "* **avg_holding_time**: the average holding time in days.\n",
    "\n",
    "We can also plot a chart to show how profits and losses have accumulated over time."
   ]
  },
  {
   "cell_type": "code",
   "execution_count": null,
   "metadata": {
    "collapsed": false,
    "jupyter": {
     "outputs_hidden": false
    }
   },
   "outputs": [],
   "source": [
    "performance = stats.to_pandas()[\"equity\"]\n",
    "qngraph.make_plot_filled(performance.index, performance, name=\"PnL (Equity)\", type=\"log\")"
   ]
  },
  {
   "cell_type": "markdown",
   "metadata": {},
   "source": [
    "## 5) Submit Your strategy to the competition\n",
    "\n",
    "> Send strategy use **Submit** button"
   ]
  },
  {
   "cell_type": "code",
   "execution_count": null,
   "metadata": {
    "collapsed": false,
    "jupyter": {
     "outputs_hidden": false
    }
   },
   "outputs": [],
   "source": [
    "weights = weights.sel(time=slice(\"2006-01-01\", None))\n",
    "\n",
    "qnout.check(weights, data, \"stocks_s&p500\")"
   ]
  },
  {
   "cell_type": "code",
   "execution_count": null,
   "metadata": {},
   "outputs": [],
   "source": [
    "qnout.write(weights)  # to participate in the competition\n",
    "#After submitting the strategy to the contest, any weight exceeding 0.1 will be capped at that limit."
   ]
  },
  {
   "cell_type": "markdown",
   "metadata": {},
   "source": [
    "## Strategy Guidelines\n",
    "\n",
    "* Your trading algorithm can open both short and long positions.\n",
    "\n",
    "* At any given time, your algorithm can trade all or a subset of stocks that are or were part of the S&P500 stock index. Keep in mind that this index's composition changes over time. Quantiacs provides a suitable filter function for selecting these stocks.\n",
    "\n",
    "* The Sharpe ratio of your system since January 1, 2006, must be greater than 0.7.\n",
    "\n",
    "* The maximum allocation to any single asset is capped at 10% of total capital. If a weight exceeds this, it will be limited to 0.1. Other normalization methods are allowed.\n",
    "\n",
    "* Manual stock selection or direct hand-picking is not permitted. The allocation process must be [dynamic](https://quantiacs.com/documentation/en/user_guide/dynamic_assets_selection.html#risk-management).\n",
    "\n",
    "* Your system must not replicate the current examples. We use a correlation filter to identify and remove duplicates in the submissions.\n",
    "\n",
    "For more detailed rules, please visit our [competition rules page](https://quantiacs.com/contest)."
   ]
  },
  {
   "cell_type": "markdown",
   "metadata": {},
   "source": [
    "# Working with Data\n",
    "\n",
    "Quantiacs offers historical data for major financial markets, including **stocks**, **futures** (like Bitcoin futures),\n",
    "and **cryptocurrencies**. This section provides an overview of the data:\n",
    "\n",
    "- [Stocks](https://quantiacs.com/documentation/en/data/stocks.html): Market data for NASDAQ-listed or S&P 500 companies, past and\n",
    "  present.\n",
    "- [Futures](https://quantiacs.com/documentation/en/data/futures.html): Market data for liquid global futures contracts\n",
    "  with various underlying assets.\n",
    "- [Cryptocurrencies](https://quantiacs.com/documentation/en/data/crypto.html): Market data for top cryptocurrencies by\n",
    "  market capitalization.\n",
    "\n",
    "Additional Datasets:\n",
    "\n",
    "- [Indexes](https://quantiacs.com/documentation/en/data/indexes.html): Daily data for various stock market indices.\n",
    "- [U.S. Bureau of Labor Statistics (BLS Data)](https://quantiacs.com/documentation/en/data/bls.html): Offers\n",
    "  macroeconomic data on prices, employment, unemployment, compensation, and working conditions.\n",
    "- [International Monetary Fund (IMF Data)](https://quantiacs.com/documentation/en/data/imf.html): Publishes time series data on IMF lending, exchange rates,\n",
    "  economic and financial indicators, and commodity data.\n",
    "- [Fundamental Data](https://quantiacs.com/documentation/en/data/fundamental.html): An experimental API for additional financial data."
   ]
  },
  {
   "cell_type": "markdown",
   "metadata": {},
   "source": [
    "## Loading Data\n",
    "\n",
    "```python\n",
    "import qnt.data as qndata\n",
    "\n",
    "# Load daily stock data for the Q22 S&P500 contest\n",
    "stocks = qndata.stocks.load_spx_data(min_date=\"2005-06-01\")\n",
    "\n",
    "# Load daily stock data for the Q20 Nasdaq-100 contest\n",
    "stocks_nasdaq = qndata.stocks.load_ndx_data(min_date=\"2005-06-01\")\n",
    "\n",
    "# Load cryptocurrency daily data for the Q16/Q17 contests\n",
    "cryptodaily = qndata.cryptodaily.load_data(min_date=\"2005-06-01\")\n",
    "\n",
    "# Load futures data for the Q15 contest\n",
    "futures = qndata.futures.load_data(min_date=\"2005-06-01\")\n",
    "\n",
    "# Load BTC futures data for the Q15 contest\n",
    "crypto_futures = qndata.cryptofutures.load_data(min_date=\"2005-06-01\")\n",
    "\n",
    "print(stocks, stocks_nasdaq, cryptodaily, futures, crypto_futures)\n",
    "\n",
    "```"
   ]
  },
  {
   "cell_type": "markdown",
   "metadata": {},
   "source": [
    "## Accessing Data Fields\n",
    "\n",
    "The datasets contain details such as opening and closing prices, high and low prices, trading volumes, and more.\n",
    "\n",
    "```python\n",
    "import qnt.data as qndata\n",
    "\n",
    "data = qndata.stocks.load_spx_data(min_date=\"2005-06-01\")\n",
    "\n",
    "price_open = data.sel(field=\"open\")\n",
    "price_close = data.sel(field=\"close\")\n",
    "price_high = data.sel(field=\"high\")\n",
    "price_low = data.sel(field=\"low\")\n",
    "volume_day = data.sel(field=\"vol\")\n",
    "is_liquid = data.sel(field=\"is_liquid\")\n",
    "\n",
    "```"
   ]
  },
  {
   "cell_type": "markdown",
   "metadata": {},
   "source": [
    "## Working with xarray and pandas\n",
    "\n",
    "Quantiacs uses xarray for storing multi-dimensional data, and pandas for handling tabular data. Both libraries are powerful tools for data manipulation, selection, and computation.\n",
    "\n",
    "You can also easily convert between xarray DataArrays and pandas DataFrames to leverage the unique capabilities of each library.\n",
    "\n",
    "```python\n",
    "import qnt.data as qndata\n",
    "import numpy as np\n",
    "import qnt.ta as qnta\n",
    "\n",
    "# Xarray usage\n",
    "data = qndata.stocks.load_spx_data(min_date=\"2005-06-01\")\n",
    "price_open = data.sel(field=\"open\")\n",
    "price_close = data.sel(field=\"close\")\n",
    "price_close_100 = price_close / 100.0\n",
    "log_price = np.log(price_close)\n",
    "close_price_sma = qnta.sma(price_close, 2)\n",
    "\n",
    "# Conversion between xarray and pandas\n",
    "prices_pandas = price_close.to_pandas()\n",
    "prices_xarray = prices_pandas.unstack().to_xarray()\n",
    "```\n",
    "\n",
    "We provide two examples on how to calculate the percentage change of close prices and simple moving average:\n",
    "\n",
    "### Example 1\n",
    "\n",
    "```python\n",
    "import qnt.data as qntdata\n",
    "\n",
    "# Load data\n",
    "data = qntdata.stocks.load_spx_data(min_date=\"2005-06-01\")\n",
    "\n",
    "# Calculate percentage change of close prices\n",
    "def get_price_pct_change(prices):\n",
    "    prices_pandas = prices.to_pandas()\n",
    "    assets = data.coords[\"asset\"].values\n",
    "    for asset in assets:\n",
    "        prices_pandas[asset] = prices_pandas[asset].pct_change()\n",
    "    return prices_pandas\n",
    "\n",
    "prices = data.sel(field=\"close\") * 1.0\n",
    "prices_pct_change = get_price_pct_change(prices).unstack().to_xarray()\n",
    "\n",
    "```\n",
    "\n",
    "\n",
    "### Example 2\n",
    "\n",
    "```python\n",
    "import qnt.data as qntdata\n",
    "\n",
    "# Load data\n",
    "data = qntdata.stocks.load_spx_data(min_date=\"2005-06-01\")\n",
    "\n",
    "# Convert close prices to pandas DataFrame\n",
    "close = data.sel(field=\"close\").to_pandas()\n",
    "\n",
    "# Calculate simple moving average (SMA) for close prices\n",
    "close_sma = ((close - close.shift(10)) / close.shift(10)).rolling(30).mean()\n",
    "\n",
    "# Normalize SMA values\n",
    "norm = abs(close_sma).sum(axis=1)\n",
    "weights = close_sma.div(norm, axis=0)\n",
    "\n",
    "# Convert weights back to xarray DataArray\n",
    "final_weights = weights.unstack().to_xarray()\n",
    "\n",
    "```"
   ]
  },
  {
   "cell_type": "markdown",
   "metadata": {},
   "source": [
    "## QNT Technical Indicators\n",
    "\n",
    "The **qnt.ta** module is a collection of technical analysis indicators and functions specially optimized for working with qnt, a platform for quantitative finance research and trading strategies.\n",
    "\n",
    "Indicator groups:\n",
    "\n",
    "1. **Moving Averages**: These indicators calculate the average price over a specified number of periods to help identify trends in the market.\n",
    "2. **Oscillators**: These indicators measure the momentum and trend of the market by comparing the current price to its historical average.\n",
    "3. **Volatility Indicators**: These indicators help to identify how much the price of an asset is changing over time, which can be useful for managing risk.\n",
    "4. **Volume Indicators**: These indicators measure the strength or weakness of a price trend based on the volume of trades occurring in the market.\n",
    "5. **Overlap Studies**: These indicators are used to identify potential areas of support and resistance by analyzing the relationship between the current price and its historical moving averages.\n",
    "6. **Momentum Indicators**: These indicators measure the rate of change of an asset's price over time to help identify trend reversals.\n",
    "7. **Cycle Indicators**: These indicators help identify trends in the market by analyzing repeating patterns over a fixed period of time."
   ]
  },
  {
   "cell_type": "markdown",
   "metadata": {},
   "source": [
    "\n",
    "```Python\n",
    "import qnt.data as qndata\n",
    "import qnt.ta as qnta\n",
    "\n",
    "data = qndata.stocks.load_spx_data(min_date=\"2005-06-01\")\n",
    "high = data.sel(field='high')\n",
    "low = data.sel(field='low')\n",
    "close = data.sel(field='close')\n",
    "volume = data.sel(field='vol')\n",
    "\n",
    "# Moving Averages\n",
    "sma_20 = qnta.sma(close, 20)\n",
    "ema_20 = qnta.ema(close, 20)\n",
    "wilder_ma_20 = qnta.wilder_ma(close, 20)\n",
    "lwma_20 = qnta.lwma(close, 20)\n",
    "dema_20 = qnta.dema(close, 20)\n",
    "tema_20 = qnta.tema(close, 20)\n",
    "\n",
    "# Oscillators\n",
    "rsi_14 = qnta.rsi(close, 14)\n",
    "roc_10 = qnta.roc(close, 10)\n",
    "sroc_10 = qnta.sroc(close, 10)\n",
    "macd_line, macd_signal, macd_hist = qnta.macd(close, 12, 26, 9)\n",
    "trix_15 = qnta.trix(close, 15)\n",
    "stoch_k = qnta.stochastic_k(high, low, close, 14)\n",
    "stoch_d = qnta.stochastic(high, low, close, 14)\n",
    "slow_stoch_d = qnta.slow_stochastic(high, low, close, 14)\n",
    "\n",
    "# Index Indicators\n",
    "atr_14 = qnta.atr(high, low, close, 14)\n",
    "tr_1 = qnta.tr(high, low, close)\n",
    "dms = qnta.dms(high, low, close, 14, 14, 14)\n",
    "\n",
    "# Cumulative\n",
    "obv_line = qnta.obv(close, volume)\n",
    "chaikin_adl_line = qnta.chaikin_adl(high, low, close, volume)\n",
    "chaikin_oscillator = qnta.chaikin_osc(chaikin_adl_line, 3, 10)\n",
    "\n",
    "# Global\n",
    "ad_line_result = qnta.ad_line(close * data.sel(field=\"is_liquid\"))\n",
    "ad_ratio_result = qnta.ad_ratio(close * data.sel(field=\"is_liquid\"))\n",
    "\n",
    "# Pivot Points\n",
    "pivot_points_result = qnta.pivot_points(data, 2, 3)\n",
    "top_pivot_points_result = qnta.top_pivot_points(data)\n",
    "bottom_pivot_points_result = qnta.bottom_pivot_points(data)\n",
    "\n",
    "# Other functions\n",
    "price_change = qnta.change(close)\n",
    "shifted_data = qnta.shift(close, periods=1)\n",
    "std_dev = qnta.std(close, 20)\n",
    "variance_value = qnta.variance(close, 20)\n",
    "covariance_value = qnta.covariance(close, close, 20)\n",
    "beta_value = qnta.beta(close, close, 20)\n",
    "correlation_value = qnta.correlation(close, close, 20)\n",
    "\n",
    "```\n"
   ]
  },
  {
   "cell_type": "markdown",
   "metadata": {},
   "source": [
    "\n",
    "## Frequently used functions\n",
    "\n",
    "| Description                                        | Code Example                                                                                                                                                     |\n",
    "|----------------------------------------------------|------------------------------------------------------------------------------------------------------------------------------------------------------------------|\n",
    "| View a list of all tickers                         | `data.asset.to_pandas().to_list()`                                                                                                                               |\n",
    "| See which fields are available                     | `data.field.to_pandas().to_list()`                                                                                                                               |\n",
    "| Load specific tickers                              | `data = qndata.stocks.load_spx_data(min_date=\"2005-06-01\", assets=[\"NAS:AAPL\", \"NAS:AMZN\"])`                                                                     |\n",
    "| Select specific tickers after loading all data     | `def get_data_filter(data, assets):`<br>&emsp;`filler= data.sel(asset=assets)`<br>&emsp;`return filler`<br><br>`get_data_filter(data, [\"NAS:AAPL\", \"NAS:AMZN\"])` |\n",
    "| Loads a list of S&P500-listed stocks               | `stocks_list = qndata.stocks.load_spx_list(min_date='2006-01-01')`                                                                                               |\n",
    "| Loads a list of available futures contracts.       | `future_list = qndata.futures.load_list()`                                                                                                                       |\n",
    "| List of sectors.                                   | `sectors = [x['sector'] for x in stocks_list]`                                                                                                                   |\n",
    "| Filter list of asset IDs for the specified sector. | `assets_for_sector = [x['id'] for x in stocks_list if x['sector'] == \"Energy\"]`                                                                                  |\n",
    "| Load specific tickers for sector                   | `data = qndata.stocks.load_spx_data(min_date=\"2005-06-01\", assets=assets_for_sector)`                                                                            |"
   ]
  },
  {
   "cell_type": "markdown",
   "metadata": {},
   "source": [
    "# Optimization\n",
    "\n",
    "## How to find good parameters for my algorithm?\n",
    "\n",
    "See examples\n",
    "\n",
    "* [Trading System Optimization](https://github.com/quantiacs/strategy-futures-ta-global-optimizer/blob/master/strategy.ipynb)\n",
    "* [Trading System Optimization by Asset](https://github.com/quantiacs/strategy-futures-optimization-each-asset/blob/master/strategy.ipynb)\n",
    "\n",
    "\n",
    "Read more on our [article](https://quantiacs.com/community/topic/29/optimizing-and-monitoring-a-trading-system-with-quantiacs).\n",
    "\n"
   ]
  },
  {
   "cell_type": "markdown",
   "metadata": {},
   "source": [
    "# Dynamic Assets Selection\n",
    "\n",
    "See [Dynamic Assets Selection Page](https://quantiacs.com/documentation/en/user_guide/dynamic_assets_selection.html)\n",
    "\n",
    "##  Applying to Liquid Assets\n",
    "Make sure that the selected stocks are liquid:\n",
    "\n",
    "```python\n",
    "weights = weights * data.sel(field=\"is_liquid\")\n",
    "```\n",
    "\n",
    "## Trading Stocks with Different Volatilities\n",
    "You can choose stocks with different levels of volatility:\n",
    "\n",
    "Low Volatility: Trade 150 stocks with the lowest volatility over the past 60 days.\n",
    "High Volatility: Focus on the 150 most volatile stocks.\n",
    "```python\n",
    "# Low Volatility\n",
    "low_volatility = qnfilter.filter_volatility(data=data, rolling_window=60, top_assets=150, metric=\"std\", ascending=True)\n",
    "weights = weights * low_volatility\n",
    "\n",
    "# High Volatility\n",
    "high_volatility = qnfilter.filter_volatility(data=data, rolling_window=60, top_assets=150, metric=\"std\", ascending=False)\n",
    "weights = weights * high_volatility\n",
    "```\n",
    "\n",
    "## Selecting Stocks by Sharpe Ratio\n",
    "Select stocks that show the best results by Sharpe ratio:\n",
    "\n",
    "```python\n",
    "def filter_sharpe_ratio(data, weights, top_assets):\n",
    "    stats_per_asset = qnstats.calc_stat(data, weights, per_asset=True)\n",
    "    sharpe_ratio = stats_per_asset.sel(field=\"sharpe_ratio\")\n",
    "    return qnfilter.rank_assets_by(data, sharpe_ratio, top_assets, ascending=False)\n",
    "\n",
    "asset_filter = filter_sharpe_ratio(data, weights, 150)\n",
    "weights = weights * asset_filter\n",
    "\n",
    "# weights = weights * qnfilter.filter_sharpe_ratio(data, weights, 150) # this can be done in one line\n",
    "```\n",
    "\n",
    "## Volatility Using a Rolling Window\n",
    "This method allows filtering stocks based on volatility calculated over a specified time window:\n",
    "\n",
    "```python\n",
    "asset_filter = qnfilter.filter_volatility_rolling(data=data,\n",
    "                                                    weights=strategy(data),\n",
    "                                                    top_assets=150,\n",
    "                                                    rolling_window=60,\n",
    "                                                    metric=\"std\",\n",
    "                                                    ascending=True)\n",
    "weights = weights * asset_filter\n",
    "```\n",
    "\n",
    "## Filtering Stocks by Normalized Average True Range (NATR)\n",
    "The Normalized Average True Range (NATR) is a volatility metric that adjusts the Average True Range (ATR) for the price level of the asset, providing a percentage-based measure that makes it easier to compare volatility across different priced stocks.\n",
    "\n",
    "```python\n",
    "\n",
    "asset_filter = qnfilter.filter_by_normalized_atr(data, top_assets=150, ma_period=90, ascending=True)\n",
    "weights = weights * asset_filter\n",
    "```"
   ]
  },
  {
   "cell_type": "markdown",
   "metadata": {},
   "source": [
    "## How can you reduce slippage impace when trading?\n",
    "\n",
    "Just apply some technique to reduce turnover:\n",
    "\n",
    "```python\n",
    "def get_lower_slippage(weights, rolling_time=6):\n",
    "    return weights.rolling({\"time\": rolling_time}).max()\n",
    "\n",
    "improved_weights = get_lower_slippage(weights, rolling_time=6)\n",
    "```"
   ]
  },
  {
   "cell_type": "markdown",
   "metadata": {},
   "source": [
    "## How to get the Sharpe ratio?\n",
    "\n",
    "```python\n",
    "import qnt.stats as qnstats\n",
    "\n",
    "def get_sharpe(market_data, weights):\n",
    "    rr = qnstats.calc_relative_return(market_data, weights)\n",
    "    sharpe = qnstats.calc_sharpe_ratio_annualized(rr).values[-1]\n",
    "    return sharpe\n",
    "\n",
    "sharpe = get_sharpe(data, weights) # weights.sel(time=slice(\"2006-01-01\",None))\n",
    "```"
   ]
  },
  {
   "cell_type": "markdown",
   "metadata": {},
   "source": [
    "## How can you check the quality of your strategy?\n",
    "\n",
    "```python\n",
    "import qnt.output as qnout\n",
    "qnout.check(weights, data, \"stocks_s&p500\")\n",
    "```\n",
    "\n",
    "or\n",
    "\n",
    "```python\n",
    "stat= qnstats.calc_stat(data, weights)\n",
    "display(stat.to_pandas().tail())\n",
    "```\n",
    "\n",
    "or\n",
    "\n",
    "```python\n",
    "import qnt.graph   as qngraph\n",
    "statistics= qnstats.calc_stat(data, weights)\n",
    "display(statistics.to_pandas().tail())\n",
    "\n",
    "performance= statistics.to_pandas()[\"equity\"]\n",
    "qngraph.make_plot_filled(performance.index, performance, name=\"PnL (Equity)\", type=\"log\")\n",
    "\n",
    "display(statistics[-1:].sel(field = [\"sharpe_ratio\"]).transpose().to_pandas())\n",
    "qnstats.print_correlation(weights, data)\n",
    "\n",
    "```"
   ]
  },
  {
   "cell_type": "markdown",
   "metadata": {},
   "source": [
    "# Common Reasons for Submission Rejection and Their Solutions\n",
    "\n",
    "Here are some of the frequent reasons causing submission rejection in algorithmic trading competitions, and their corresponding remedies.\n",
    "\n",
    "> [Detailed explanation with examples](https://quantiacs.com/documentation/en/user_guide/passFilters.html).\n",
    "\n",
    "## 1) Missed call to write_output\n",
    "\n",
    "Save algorithm weights,  run code\n",
    "\n",
    "```python\n",
    "qnt.output.write(weights)\n",
    "```\n",
    "\n",
    "## 2) Not eligible send to contest. In-Sample Sharpe must be larger than 1\n",
    "\n",
    "Improve your algorithm. Аor example, you can use sections and get an algorithm that will pass the filter\n",
    "\n",
    "* Example [Trading System Optimization](https://github.com/quantiacs/strategy-futures-ta-global-optimizer/blob/master/strategy.ipynb)\n",
    "* Example of a strategy using [technical analysis indicators](https://github.com/quantiacs/strategy-predict-NASDAQ100-use-atr-lwma/blob/master/strategy.ipynb)\n",
    "* How do I get a list of the top 3 assets ranked by Sharpe ratio?\n",
    "\n",
    "**Need help?** Check the [**Documentation**](https://quantiacs.com/documentation/en/) and find solutions/report problems in the [**Forum**](https://quantiacs.com/community/categories) section.\n",
    "\n",
    "\n",
    "## 3) Not enough bid information.\n",
    "\n",
    "Run code\n",
    "\n",
    "```python\n",
    "min_time = weights.time[abs(weights).fillna(0).sum('asset')> 0].min()\n",
    "min_time\n",
    "```\n",
    "> min_time must be less than or equal to January 1, 2006.\n",
    "\n",
    "If min_time is larger than the starting date, we recommend to fill the starting values of the time series with non-vanishing values, for example a simple buy-and-hold strategy.\n",
    "\n",
    "```python\n",
    "def get_enough_bid_for(data_, weights_):\n",
    "    time_traded = weights_.time[abs(weights_).fillna(0).sum('asset') > 0]\n",
    "    is_strategy_traded = len(time_traded)\n",
    "    if is_strategy_traded:\n",
    "        return xr.where(weights_.time < time_traded.min(), data_.sel(field=\"is_liquid\"), weights_)\n",
    "    return weights_\n",
    "\n",
    "\n",
    "weights_new = get_enough_bid_for(data, weights)\n",
    "weights_new = weights_new.sel(time=slice(\"2006-01-01\",None))\n",
    "```"
   ]
  }
 ],
 "metadata": {
  "kernelspec": {
   "display_name": "Python 3 (ipykernel)",
   "language": "python",
   "name": "python3"
  },
  "language_info": {
   "codemirror_mode": {
    "name": "ipython",
    "version": 3
   },
   "file_extension": ".py",
   "mimetype": "text/x-python",
   "name": "python",
   "nbconvert_exporter": "python",
   "pygments_lexer": "ipython3",
   "version": "3.10.13"
  }
 },
 "nbformat": 4,
 "nbformat_minor": 4
}
